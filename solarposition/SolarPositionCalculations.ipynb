{
 "cells": [
  {
   "cell_type": "markdown",
   "metadata": {},
   "source": [
    "Transliteration of \"Arduino Uno and Solar Position Calculations\", by David Brooks\n",
    "\n",
    "http://www.instesre.org/ArduinoUnoSolarCalculations.pdf"
   ]
  },
  {
   "cell_type": "code",
   "execution_count": 1,
   "metadata": {
    "collapsed": true
   },
   "outputs": [],
   "source": [
    "import math"
   ]
  },
  {
   "cell_type": "code",
   "execution_count": 2,
   "metadata": {
    "collapsed": true
   },
   "outputs": [],
   "source": [
    "# Paper numbers vs. math.pi. Eventual difference is in the 4th decimal place.\n",
    "paper_numbers = False\n",
    "if paper_numbers:\n",
    "    PI = 3.141592654\n",
    "    TAU = 6.28318531\n",
    "    DEG_TO_RAD = 0.01745329\n",
    "else:\n",
    "    # Using math.pi matches the Excel results from the paper\n",
    "    PI = math.pi\n",
    "    TAU = PI * 2\n",
    "    DEG_TO_RAD = TAU / 360"
   ]
  },
  {
   "cell_type": "code",
   "execution_count": 3,
   "metadata": {
    "collapsed": true
   },
   "outputs": [],
   "source": [
    "hour = 0\n",
    "minute = 0\n",
    "second = 0\n",
    "day = 21\n",
    "month = 6\n",
    "year = 2015\n",
    "zone = 5   # how many hours to subtract from UTC"
   ]
  },
  {
   "cell_type": "code",
   "execution_count": 4,
   "metadata": {
    "collapsed": true
   },
   "outputs": [],
   "source": [
    "# From the paper. Denotes a location in NJ near Philadelphia\n",
    "Lat = 40 * DEG_TO_RAD\n",
    "Lon = -75 * DEG_TO_RAD"
   ]
  },
  {
   "cell_type": "code",
   "execution_count": 5,
   "metadata": {
    "collapsed": true
   },
   "outputs": [],
   "source": [
    "def JulianDate(year, month, day):\n",
    "    if month <= 2:\n",
    "        year = year - 1\n",
    "        month = month + 12\n",
    "    A = int(year / 100)  # implicit integer\n",
    "    B = 2 - A + int(A / 4)\n",
    "    JD_Whole = int((365.25 * (year + 4716)) + int(30.6001 * (month + 1)) + day + B - 1524)\n",
    "    # This look sketchy.\n",
    "    # is month zero-based? Then the table in the paper is misleading.\n",
    "    # is day zero-based?\n",
    "    JD_frac = (hour + minute / 60.0  + second / 3600.0) / 24.0 - 0.5\n",
    "    return int(JD_Whole), JD_frac\n",
    "        "
   ]
  },
  {
   "cell_type": "code",
   "execution_count": 6,
   "metadata": {},
   "outputs": [
    {
     "name": "stdout",
     "output_type": "stream",
     "text": [
      " 5: elevation:   3.9347, azimuth:  62.4369\n",
      " 6: elevation:  14.4962, azimuth:  71.3769\n",
      " 7: elevation:  25.6184, azimuth:  80.0108\n",
      " 8: elevation:  37.0417, azimuth:  89.0132\n",
      " 9: elevation:  48.4861, azimuth:  99.4738\n",
      "10: elevation:  59.4964, azimuth: 113.6657\n",
      "11: elevation:  68.9263, azimuth: 137.1846\n",
      "12: elevation:  73.4329, azimuth: 178.5533\n",
      "13: elevation:  69.3859, azimuth: 220.8900\n",
      "14: elevation:  60.1246, azimuth: 245.2711\n",
      "15: elevation:  49.1647, azimuth: 259.8137\n",
      "16: elevation:  37.7304, azimuth: 270.4153\n",
      "17: elevation:  26.2972, azimuth: 279.4679\n",
      "18: elevation:  15.1498, azimuth: 288.1025\n",
      "19: elevation:   4.5468, azimuth: 297.0085\n"
     ]
    }
   ],
   "source": [
    "for hour in range(10, 25):\n",
    "    JD_whole, JD_frac = JulianDate(year, month, day)\n",
    "    T = ((JD_whole - 2451545) + JD_frac) / 36525.0\n",
    "    L0 = DEG_TO_RAD * (280.46645 + 36000.76983 * T) % 360.0\n",
    "    M = DEG_TO_RAD * (357.5291 + 35999.0503 * T) % 360.0\n",
    "    e = 0.016708617 - 0.000042037 * T\n",
    "    C = DEG_TO_RAD * ((1.9146 - 0.004847 * T) * math.sin(M) + (0.019993 - 0.000101 * T) * math.sin(2*M) + 0.00029 * math.sin(3 * M))\n",
    "    f = M + C\n",
    "    Ob1 = DEG_TO_RAD * (23.0 + 26.0/60.0 + 21.448/3600.0 - 46.815 / 3600 * T)\n",
    "    JDx = JD_whole - 2451545\n",
    "    GrHrAngle = 280.46061837 + (360 * JDx) % 360 + 0.98564736629 * JDx + 360.98564736629 * JD_frac\n",
    "    GrHrAngle = GrHrAngle % 360.0\n",
    "    L_true = (C + L0) % TAU\n",
    "    R = 1.000001018 * (1.0 - e*e) / (1.0 + e * math.cos(f))\n",
    "    RA = math.atan2(math.sin(L_true) * math.cos(Ob1), math.cos(L_true))\n",
    "    Decl = math.asin(math.sin(Ob1) * math.sin(L_true))\n",
    "    HrAngle = DEG_TO_RAD * GrHrAngle + Lon - RA\n",
    "    elev = math.asin(math.sin(Lat) * math.sin(Decl) + math.cos(Lat) * (math.cos(Decl) * math.cos(HrAngle)))\n",
    "    azimuth = PI + math.atan2(math.sin(HrAngle), math.cos(HrAngle) * math.sin(Lat) - math.tan(Decl) * math.cos(Lat))\n",
    "    \n",
    "    print(\"{:>2}: elevation: {:>8.4f}, azimuth: {:>8.4f}\".format(hour - zone, elev/DEG_TO_RAD, azimuth/DEG_TO_RAD))\n"
   ]
  }
 ],
 "metadata": {
  "kernelspec": {
   "display_name": "Python 3",
   "language": "python",
   "name": "python3"
  },
  "language_info": {
   "codemirror_mode": {
    "name": "ipython",
    "version": 3
   },
   "file_extension": ".py",
   "mimetype": "text/x-python",
   "name": "python",
   "nbconvert_exporter": "python",
   "pygments_lexer": "ipython3",
   "version": "3.4.3"
  }
 },
 "nbformat": 4,
 "nbformat_minor": 2
}
