{
 "cells": [
  {
   "cell_type": "code",
   "execution_count": 1,
   "id": "b4cf6553-dc70-43e5-9b31-a01702631f4a",
   "metadata": {},
   "outputs": [],
   "source": [
    "# Playing with some event data"
   ]
  },
  {
   "cell_type": "code",
   "execution_count": 2,
   "id": "e349f8f1-1ac6-45d2-aea8-69af43c32178",
   "metadata": {},
   "outputs": [],
   "source": [
    "%matplotlib inline\n",
    "import matplotlib.pyplot as plt\n",
    "plt.rcParams['figure.figsize'] = [10, 8]\n",
    "import numpy as np\n",
    "from dateutil import parser"
   ]
  },
  {
   "cell_type": "code",
   "execution_count": 3,
   "id": "de6dd3ab-dbee-480f-a0af-91cac15b6530",
   "metadata": {},
   "outputs": [],
   "source": [
    "def date_sequences(path):\n",
    "    \"\"\"\n",
    "    Parse a file of date events, with groups of events delimited by '--' markers.\n",
    "    Emit (start-date, event-date) pairs for each event.\n",
    "    \"\"\"\n",
    "    with open(path, 'r') as f:\n",
    "        dates = []\n",
    "        for line in f:\n",
    "            line = line.strip()\n",
    "            if line == '--':\n",
    "                if dates:\n",
    "                    dates = sorted(dates)\n",
    "                    for d in dates:\n",
    "                        yield (dates[0], d)\n",
    "                    dates = []\n",
    "            else:\n",
    "                dp = int(parser.parse(line).strftime('%s'))\n",
    "                dates.append(dp)\n",
    "        if dates:\n",
    "            dates = sorted(dates)\n",
    "            for d in dates:\n",
    "                yield (dates[0], d)\n",
    "\n",
    "date_points = [ds for ds in date_sequences('events.txt')]"
   ]
  },
  {
   "cell_type": "code",
   "execution_count": 4,
   "id": "40bcc7f3-49d2-4426-a109-864070604154",
   "metadata": {},
   "outputs": [
    {
     "data": {
      "image/png": "[encoded data removed]",
      "text/plain": [
       "<Figure size 720x576 with 1 Axes>"
      ]
     },
     "metadata": {
      "needs_background": "light"
     },
     "output_type": "display_data"
    }
   ],
   "source": [
    "y = [-dp[0] for dp in date_points]  # negate to plot earliest-to-latest\n",
    "x = [dp[1] for dp in date_points]\n",
    "plt.scatter(x, y)\n",
    "\n",
    "# TODO hide the axis labels until I have time to format them\n",
    "ax = plt.gca()\n",
    "ax.xaxis.set_visible(False)\n",
    "ax.yaxis.set_visible(False)\n"
   ]
  }
 ],
 "metadata": {
  "kernelspec": {
   "display_name": "Python 3 (ipykernel)",
   "language": "python",
   "name": "python3"
  },
  "language_info": {
   "codemirror_mode": {
    "name": "ipython",
    "version": 3
   },
   "file_extension": ".py",
   "mimetype": "text/x-python",
   "name": "python",
   "nbconvert_exporter": "python",
   "pygments_lexer": "ipython3",
   "version": "3.8.10"
  }
 },
 "nbformat": 4,
 "nbformat_minor": 5
}
